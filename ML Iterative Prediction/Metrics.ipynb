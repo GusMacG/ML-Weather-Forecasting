{
 "cells": [
  {
   "cell_type": "code",
   "execution_count": 3,
   "outputs": [],
   "source": [
    "import numpy as np\n",
    "import pandas as pd\n",
    "import matplotlib.pyplot as plt\n",
    "import seaborn as sns\n",
    "from sklearn.ensemble import RandomForestRegressor\n",
    "from sklearn.ensemble import GradientBoostingRegressor\n",
    "from sklearn.svm import SVR\n",
    "from scipy.stats import norm\n",
    "from scipy.stats import f_oneway\n",
    "import os\n",
    "from joblib import load, dump"
   ],
   "metadata": {
    "collapsed": false,
    "ExecuteTime": {
     "end_time": "2024-01-26T17:10:20.019082900Z",
     "start_time": "2024-01-26T17:10:19.974358700Z"
    }
   },
   "id": "984e5b9a64bbb495"
  },
  {
   "cell_type": "code",
   "execution_count": 4,
   "id": "initial_id",
   "metadata": {
    "collapsed": true,
    "ExecuteTime": {
     "end_time": "2024-01-26T17:10:22.285934800Z",
     "start_time": "2024-01-26T17:10:20.583942700Z"
    }
   },
   "outputs": [
    {
     "data": {
      "text/plain": "['Temp_mean',\n 'Temp_min',\n 'Temp_max',\n 'PresBarometr_mean',\n 'RadSolar_mean',\n 'RadSolar_max',\n 'RapViento_mean']"
     },
     "execution_count": 4,
     "metadata": {},
     "output_type": "execute_result"
    }
   ],
   "source": [
    "# Load CSV\n",
    "hourly = pd.read_csv(\"cache/Monterrey.csv\")\n",
    "# Format the date\n",
    "hourly['Fecha'] = pd.to_datetime(hourly['Fecha'], format='%m/%d/%y %H:%M')\n",
    "# Drop unused weather variables\n",
    "hourly = hourly.drop(columns=['DirRafaga', 'DirViento', 'RelHum', 'RapRafaga'])\n",
    "# Set timestamp as index\n",
    "hourly.set_index('Fecha', inplace=True)\n",
    "# Resample the data to daily frequency\n",
    "data = hourly.resample('D').agg({'Temp': ['mean', 'min', 'max'],\n",
    "                                 'PresBarometr': ['mean'],\n",
    "                                 'RadSolar': ['mean', 'max'],\n",
    "                                 'RapViento': ['mean']})\n",
    "\n",
    "# Flatten the column names\n",
    "data.columns = [f'{col[0]}_{col[1]}' for col in data.columns]\n",
    "\n",
    "# Reset the index\n",
    "data.reset_index(inplace=True)\n",
    "\n",
    "# Drop NaNs\n",
    "data = data.dropna()\n",
    "features = data.columns[1:].tolist()\n",
    "features"
   ]
  },
  {
   "cell_type": "code",
   "execution_count": null,
   "outputs": [],
   "source": [],
   "metadata": {
    "collapsed": false
   },
   "id": "a3100c00cf4cd0ff"
  }
 ],
 "metadata": {
  "kernelspec": {
   "display_name": "Python 3",
   "language": "python",
   "name": "python3"
  },
  "language_info": {
   "codemirror_mode": {
    "name": "ipython",
    "version": 2
   },
   "file_extension": ".py",
   "mimetype": "text/x-python",
   "name": "python",
   "nbconvert_exporter": "python",
   "pygments_lexer": "ipython2",
   "version": "2.7.6"
  }
 },
 "nbformat": 4,
 "nbformat_minor": 5
}
