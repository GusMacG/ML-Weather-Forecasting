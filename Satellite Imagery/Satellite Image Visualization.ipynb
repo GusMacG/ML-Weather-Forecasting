{
 "cells": [
  {
   "cell_type": "code",
   "execution_count": 2,
   "id": "initial_id",
   "metadata": {
    "collapsed": true,
    "ExecuteTime": {
     "end_time": "2024-02-26T19:19:46.688796700Z",
     "start_time": "2024-02-26T19:19:46.284555200Z"
    }
   },
   "outputs": [
    {
     "ename": "OSError",
     "evalue": "[Errno 22] Invalid argument: 'C:\\\\Users\\\\gusta\\\\Documents\\\\GitHub\\\\Thesis\\\\Satellite Imagery\\\\\"D:\\\\GOES 16\\\\Database\\x818\\x01'",
     "output_type": "error",
     "traceback": [
      "\u001B[1;31m---------------------------------------------------------------------------\u001B[0m",
      "\u001B[1;31mKeyError\u001B[0m                                  Traceback (most recent call last)",
      "File \u001B[1;32m~\\.conda\\envs\\tensorflow\\lib\\site-packages\\xarray\\backends\\file_manager.py:211\u001B[0m, in \u001B[0;36mCachingFileManager._acquire_with_cache_info\u001B[1;34m(self, needs_lock)\u001B[0m\n\u001B[0;32m    210\u001B[0m \u001B[38;5;28;01mtry\u001B[39;00m:\n\u001B[1;32m--> 211\u001B[0m     file \u001B[38;5;241m=\u001B[39m \u001B[38;5;28;43mself\u001B[39;49m\u001B[38;5;241;43m.\u001B[39;49m\u001B[43m_cache\u001B[49m\u001B[43m[\u001B[49m\u001B[38;5;28;43mself\u001B[39;49m\u001B[38;5;241;43m.\u001B[39;49m\u001B[43m_key\u001B[49m\u001B[43m]\u001B[49m\n\u001B[0;32m    212\u001B[0m \u001B[38;5;28;01mexcept\u001B[39;00m \u001B[38;5;167;01mKeyError\u001B[39;00m:\n",
      "File \u001B[1;32m~\\.conda\\envs\\tensorflow\\lib\\site-packages\\xarray\\backends\\lru_cache.py:56\u001B[0m, in \u001B[0;36mLRUCache.__getitem__\u001B[1;34m(self, key)\u001B[0m\n\u001B[0;32m     55\u001B[0m \u001B[38;5;28;01mwith\u001B[39;00m \u001B[38;5;28mself\u001B[39m\u001B[38;5;241m.\u001B[39m_lock:\n\u001B[1;32m---> 56\u001B[0m     value \u001B[38;5;241m=\u001B[39m \u001B[38;5;28;43mself\u001B[39;49m\u001B[38;5;241;43m.\u001B[39;49m\u001B[43m_cache\u001B[49m\u001B[43m[\u001B[49m\u001B[43mkey\u001B[49m\u001B[43m]\u001B[49m\n\u001B[0;32m     57\u001B[0m     \u001B[38;5;28mself\u001B[39m\u001B[38;5;241m.\u001B[39m_cache\u001B[38;5;241m.\u001B[39mmove_to_end(key)\n",
      "\u001B[1;31mKeyError\u001B[0m: [<class 'netCDF4._netCDF4.Dataset'>, ('C:\\\\Users\\\\gusta\\\\Documents\\\\GitHub\\\\Thesis\\\\Satellite Imagery\\\\\"D:\\\\GOES 16\\\\Database\\x818\\x01\\x00\\\\OR_ABI-L2-CODC-M3_G16_s20180010002196_e20180010004569_c20180010006308.nc\"',), 'r', (('clobber', True), ('diskless', False), ('format', 'NETCDF4'), ('persist', False)), 'eb032fd2-9e56-4842-91d0-f2480f6de20f']",
      "\nDuring handling of the above exception, another exception occurred:\n",
      "\u001B[1;31mOSError\u001B[0m                                   Traceback (most recent call last)",
      "Cell \u001B[1;32mIn[2], line 9\u001B[0m\n\u001B[0;32m      5\u001B[0m file_path \u001B[38;5;241m=\u001B[39m \u001B[38;5;124m'\u001B[39m\u001B[38;5;124m\"\u001B[39m\u001B[38;5;124mD:\u001B[39m\u001B[38;5;124m\\\u001B[39m\u001B[38;5;124mGOES 16\u001B[39m\u001B[38;5;124m\\\u001B[39m\u001B[38;5;124mDatabase\u001B[39m\u001B[38;5;130;01m\\201\u001B[39;00m\u001B[38;5;124m8\u001B[39m\u001B[38;5;130;01m\\001\u001B[39;00m\u001B[38;5;130;01m\\00\u001B[39;00m\u001B[38;5;124m\\\u001B[39m\u001B[38;5;124mOR_ABI-L2-CODC-M3_G16_s20180010002196_e20180010004569_c20180010006308.nc\u001B[39m\u001B[38;5;124m\"\u001B[39m\u001B[38;5;124m'\u001B[39m\n\u001B[0;32m      7\u001B[0m \u001B[38;5;66;03m# Step 2: Read the data\u001B[39;00m\n\u001B[0;32m      8\u001B[0m \u001B[38;5;66;03m# This assumes your .cn file is compatible with xarray's open_dataset method\u001B[39;00m\n\u001B[1;32m----> 9\u001B[0m data \u001B[38;5;241m=\u001B[39m \u001B[43mxr\u001B[49m\u001B[38;5;241;43m.\u001B[39;49m\u001B[43mopen_dataset\u001B[49m\u001B[43m(\u001B[49m\u001B[43mfile_path\u001B[49m\u001B[43m,\u001B[49m\u001B[43m \u001B[49m\u001B[43mengine\u001B[49m\u001B[38;5;241;43m=\u001B[39;49m\u001B[38;5;124;43m'\u001B[39;49m\u001B[38;5;124;43mnetcdf4\u001B[39;49m\u001B[38;5;124;43m'\u001B[39;49m\u001B[43m)\u001B[49m\n\u001B[0;32m     11\u001B[0m \u001B[38;5;66;03m# Step 3: Plot the data\u001B[39;00m\n\u001B[0;32m     12\u001B[0m \u001B[38;5;66;03m# This example assumes your dataset has variables that can be directly plotted.\u001B[39;00m\n\u001B[0;32m     13\u001B[0m \u001B[38;5;66;03m# You may need to adjust variable names and indices depending on your data's structure.\u001B[39;00m\n\u001B[0;32m     14\u001B[0m variable_name \u001B[38;5;241m=\u001B[39m \u001B[38;5;124m'\u001B[39m\u001B[38;5;124myour_variable_name\u001B[39m\u001B[38;5;124m'\u001B[39m  \u001B[38;5;66;03m# Replace with your actual variable name\u001B[39;00m\n",
      "File \u001B[1;32m~\\.conda\\envs\\tensorflow\\lib\\site-packages\\xarray\\backends\\api.py:573\u001B[0m, in \u001B[0;36mopen_dataset\u001B[1;34m(filename_or_obj, engine, chunks, cache, decode_cf, mask_and_scale, decode_times, decode_timedelta, use_cftime, concat_characters, decode_coords, drop_variables, inline_array, chunked_array_type, from_array_kwargs, backend_kwargs, **kwargs)\u001B[0m\n\u001B[0;32m    561\u001B[0m decoders \u001B[38;5;241m=\u001B[39m _resolve_decoders_kwargs(\n\u001B[0;32m    562\u001B[0m     decode_cf,\n\u001B[0;32m    563\u001B[0m     open_backend_dataset_parameters\u001B[38;5;241m=\u001B[39mbackend\u001B[38;5;241m.\u001B[39mopen_dataset_parameters,\n\u001B[1;32m   (...)\u001B[0m\n\u001B[0;32m    569\u001B[0m     decode_coords\u001B[38;5;241m=\u001B[39mdecode_coords,\n\u001B[0;32m    570\u001B[0m )\n\u001B[0;32m    572\u001B[0m overwrite_encoded_chunks \u001B[38;5;241m=\u001B[39m kwargs\u001B[38;5;241m.\u001B[39mpop(\u001B[38;5;124m\"\u001B[39m\u001B[38;5;124moverwrite_encoded_chunks\u001B[39m\u001B[38;5;124m\"\u001B[39m, \u001B[38;5;28;01mNone\u001B[39;00m)\n\u001B[1;32m--> 573\u001B[0m backend_ds \u001B[38;5;241m=\u001B[39m backend\u001B[38;5;241m.\u001B[39mopen_dataset(\n\u001B[0;32m    574\u001B[0m     filename_or_obj,\n\u001B[0;32m    575\u001B[0m     drop_variables\u001B[38;5;241m=\u001B[39mdrop_variables,\n\u001B[0;32m    576\u001B[0m     \u001B[38;5;241m*\u001B[39m\u001B[38;5;241m*\u001B[39mdecoders,\n\u001B[0;32m    577\u001B[0m     \u001B[38;5;241m*\u001B[39m\u001B[38;5;241m*\u001B[39mkwargs,\n\u001B[0;32m    578\u001B[0m )\n\u001B[0;32m    579\u001B[0m ds \u001B[38;5;241m=\u001B[39m _dataset_from_backend_dataset(\n\u001B[0;32m    580\u001B[0m     backend_ds,\n\u001B[0;32m    581\u001B[0m     filename_or_obj,\n\u001B[1;32m   (...)\u001B[0m\n\u001B[0;32m    591\u001B[0m     \u001B[38;5;241m*\u001B[39m\u001B[38;5;241m*\u001B[39mkwargs,\n\u001B[0;32m    592\u001B[0m )\n\u001B[0;32m    593\u001B[0m \u001B[38;5;28;01mreturn\u001B[39;00m ds\n",
      "File \u001B[1;32m~\\.conda\\envs\\tensorflow\\lib\\site-packages\\xarray\\backends\\netCDF4_.py:646\u001B[0m, in \u001B[0;36mNetCDF4BackendEntrypoint.open_dataset\u001B[1;34m(self, filename_or_obj, mask_and_scale, decode_times, concat_characters, decode_coords, drop_variables, use_cftime, decode_timedelta, group, mode, format, clobber, diskless, persist, lock, autoclose)\u001B[0m\n\u001B[0;32m    625\u001B[0m \u001B[38;5;28;01mdef\u001B[39;00m \u001B[38;5;21mopen_dataset\u001B[39m(  \u001B[38;5;66;03m# type: ignore[override]  # allow LSP violation, not supporting **kwargs\u001B[39;00m\n\u001B[0;32m    626\u001B[0m     \u001B[38;5;28mself\u001B[39m,\n\u001B[0;32m    627\u001B[0m     filename_or_obj: \u001B[38;5;28mstr\u001B[39m \u001B[38;5;241m|\u001B[39m os\u001B[38;5;241m.\u001B[39mPathLike[Any] \u001B[38;5;241m|\u001B[39m BufferedIOBase \u001B[38;5;241m|\u001B[39m AbstractDataStore,\n\u001B[1;32m   (...)\u001B[0m\n\u001B[0;32m    643\u001B[0m     autoclose\u001B[38;5;241m=\u001B[39m\u001B[38;5;28;01mFalse\u001B[39;00m,\n\u001B[0;32m    644\u001B[0m ) \u001B[38;5;241m-\u001B[39m\u001B[38;5;241m>\u001B[39m Dataset:\n\u001B[0;32m    645\u001B[0m     filename_or_obj \u001B[38;5;241m=\u001B[39m _normalize_path(filename_or_obj)\n\u001B[1;32m--> 646\u001B[0m     store \u001B[38;5;241m=\u001B[39m \u001B[43mNetCDF4DataStore\u001B[49m\u001B[38;5;241;43m.\u001B[39;49m\u001B[43mopen\u001B[49m\u001B[43m(\u001B[49m\n\u001B[0;32m    647\u001B[0m \u001B[43m        \u001B[49m\u001B[43mfilename_or_obj\u001B[49m\u001B[43m,\u001B[49m\n\u001B[0;32m    648\u001B[0m \u001B[43m        \u001B[49m\u001B[43mmode\u001B[49m\u001B[38;5;241;43m=\u001B[39;49m\u001B[43mmode\u001B[49m\u001B[43m,\u001B[49m\n\u001B[0;32m    649\u001B[0m \u001B[43m        \u001B[49m\u001B[38;5;28;43mformat\u001B[39;49m\u001B[38;5;241;43m=\u001B[39;49m\u001B[38;5;28;43mformat\u001B[39;49m\u001B[43m,\u001B[49m\n\u001B[0;32m    650\u001B[0m \u001B[43m        \u001B[49m\u001B[43mgroup\u001B[49m\u001B[38;5;241;43m=\u001B[39;49m\u001B[43mgroup\u001B[49m\u001B[43m,\u001B[49m\n\u001B[0;32m    651\u001B[0m \u001B[43m        \u001B[49m\u001B[43mclobber\u001B[49m\u001B[38;5;241;43m=\u001B[39;49m\u001B[43mclobber\u001B[49m\u001B[43m,\u001B[49m\n\u001B[0;32m    652\u001B[0m \u001B[43m        \u001B[49m\u001B[43mdiskless\u001B[49m\u001B[38;5;241;43m=\u001B[39;49m\u001B[43mdiskless\u001B[49m\u001B[43m,\u001B[49m\n\u001B[0;32m    653\u001B[0m \u001B[43m        \u001B[49m\u001B[43mpersist\u001B[49m\u001B[38;5;241;43m=\u001B[39;49m\u001B[43mpersist\u001B[49m\u001B[43m,\u001B[49m\n\u001B[0;32m    654\u001B[0m \u001B[43m        \u001B[49m\u001B[43mlock\u001B[49m\u001B[38;5;241;43m=\u001B[39;49m\u001B[43mlock\u001B[49m\u001B[43m,\u001B[49m\n\u001B[0;32m    655\u001B[0m \u001B[43m        \u001B[49m\u001B[43mautoclose\u001B[49m\u001B[38;5;241;43m=\u001B[39;49m\u001B[43mautoclose\u001B[49m\u001B[43m,\u001B[49m\n\u001B[0;32m    656\u001B[0m \u001B[43m    \u001B[49m\u001B[43m)\u001B[49m\n\u001B[0;32m    658\u001B[0m     store_entrypoint \u001B[38;5;241m=\u001B[39m StoreBackendEntrypoint()\n\u001B[0;32m    659\u001B[0m     \u001B[38;5;28;01mwith\u001B[39;00m close_on_error(store):\n",
      "File \u001B[1;32m~\\.conda\\envs\\tensorflow\\lib\\site-packages\\xarray\\backends\\netCDF4_.py:409\u001B[0m, in \u001B[0;36mNetCDF4DataStore.open\u001B[1;34m(cls, filename, mode, format, group, clobber, diskless, persist, lock, lock_maker, autoclose)\u001B[0m\n\u001B[0;32m    403\u001B[0m kwargs \u001B[38;5;241m=\u001B[39m \u001B[38;5;28mdict\u001B[39m(\n\u001B[0;32m    404\u001B[0m     clobber\u001B[38;5;241m=\u001B[39mclobber, diskless\u001B[38;5;241m=\u001B[39mdiskless, persist\u001B[38;5;241m=\u001B[39mpersist, \u001B[38;5;28mformat\u001B[39m\u001B[38;5;241m=\u001B[39m\u001B[38;5;28mformat\u001B[39m\n\u001B[0;32m    405\u001B[0m )\n\u001B[0;32m    406\u001B[0m manager \u001B[38;5;241m=\u001B[39m CachingFileManager(\n\u001B[0;32m    407\u001B[0m     netCDF4\u001B[38;5;241m.\u001B[39mDataset, filename, mode\u001B[38;5;241m=\u001B[39mmode, kwargs\u001B[38;5;241m=\u001B[39mkwargs\n\u001B[0;32m    408\u001B[0m )\n\u001B[1;32m--> 409\u001B[0m \u001B[38;5;28;01mreturn\u001B[39;00m \u001B[38;5;28;43mcls\u001B[39;49m\u001B[43m(\u001B[49m\u001B[43mmanager\u001B[49m\u001B[43m,\u001B[49m\u001B[43m \u001B[49m\u001B[43mgroup\u001B[49m\u001B[38;5;241;43m=\u001B[39;49m\u001B[43mgroup\u001B[49m\u001B[43m,\u001B[49m\u001B[43m \u001B[49m\u001B[43mmode\u001B[49m\u001B[38;5;241;43m=\u001B[39;49m\u001B[43mmode\u001B[49m\u001B[43m,\u001B[49m\u001B[43m \u001B[49m\u001B[43mlock\u001B[49m\u001B[38;5;241;43m=\u001B[39;49m\u001B[43mlock\u001B[49m\u001B[43m,\u001B[49m\u001B[43m \u001B[49m\u001B[43mautoclose\u001B[49m\u001B[38;5;241;43m=\u001B[39;49m\u001B[43mautoclose\u001B[49m\u001B[43m)\u001B[49m\n",
      "File \u001B[1;32m~\\.conda\\envs\\tensorflow\\lib\\site-packages\\xarray\\backends\\netCDF4_.py:356\u001B[0m, in \u001B[0;36mNetCDF4DataStore.__init__\u001B[1;34m(self, manager, group, mode, lock, autoclose)\u001B[0m\n\u001B[0;32m    354\u001B[0m \u001B[38;5;28mself\u001B[39m\u001B[38;5;241m.\u001B[39m_group \u001B[38;5;241m=\u001B[39m group\n\u001B[0;32m    355\u001B[0m \u001B[38;5;28mself\u001B[39m\u001B[38;5;241m.\u001B[39m_mode \u001B[38;5;241m=\u001B[39m mode\n\u001B[1;32m--> 356\u001B[0m \u001B[38;5;28mself\u001B[39m\u001B[38;5;241m.\u001B[39mformat \u001B[38;5;241m=\u001B[39m \u001B[38;5;28;43mself\u001B[39;49m\u001B[38;5;241;43m.\u001B[39;49m\u001B[43mds\u001B[49m\u001B[38;5;241m.\u001B[39mdata_model\n\u001B[0;32m    357\u001B[0m \u001B[38;5;28mself\u001B[39m\u001B[38;5;241m.\u001B[39m_filename \u001B[38;5;241m=\u001B[39m \u001B[38;5;28mself\u001B[39m\u001B[38;5;241m.\u001B[39mds\u001B[38;5;241m.\u001B[39mfilepath()\n\u001B[0;32m    358\u001B[0m \u001B[38;5;28mself\u001B[39m\u001B[38;5;241m.\u001B[39mis_remote \u001B[38;5;241m=\u001B[39m is_remote_uri(\u001B[38;5;28mself\u001B[39m\u001B[38;5;241m.\u001B[39m_filename)\n",
      "File \u001B[1;32m~\\.conda\\envs\\tensorflow\\lib\\site-packages\\xarray\\backends\\netCDF4_.py:418\u001B[0m, in \u001B[0;36mNetCDF4DataStore.ds\u001B[1;34m(self)\u001B[0m\n\u001B[0;32m    416\u001B[0m \u001B[38;5;129m@property\u001B[39m\n\u001B[0;32m    417\u001B[0m \u001B[38;5;28;01mdef\u001B[39;00m \u001B[38;5;21mds\u001B[39m(\u001B[38;5;28mself\u001B[39m):\n\u001B[1;32m--> 418\u001B[0m     \u001B[38;5;28;01mreturn\u001B[39;00m \u001B[38;5;28;43mself\u001B[39;49m\u001B[38;5;241;43m.\u001B[39;49m\u001B[43m_acquire\u001B[49m\u001B[43m(\u001B[49m\u001B[43m)\u001B[49m\n",
      "File \u001B[1;32m~\\.conda\\envs\\tensorflow\\lib\\site-packages\\xarray\\backends\\netCDF4_.py:412\u001B[0m, in \u001B[0;36mNetCDF4DataStore._acquire\u001B[1;34m(self, needs_lock)\u001B[0m\n\u001B[0;32m    411\u001B[0m \u001B[38;5;28;01mdef\u001B[39;00m \u001B[38;5;21m_acquire\u001B[39m(\u001B[38;5;28mself\u001B[39m, needs_lock\u001B[38;5;241m=\u001B[39m\u001B[38;5;28;01mTrue\u001B[39;00m):\n\u001B[1;32m--> 412\u001B[0m     \u001B[38;5;28;01mwith\u001B[39;00m \u001B[38;5;28mself\u001B[39m\u001B[38;5;241m.\u001B[39m_manager\u001B[38;5;241m.\u001B[39macquire_context(needs_lock) \u001B[38;5;28;01mas\u001B[39;00m root:\n\u001B[0;32m    413\u001B[0m         ds \u001B[38;5;241m=\u001B[39m _nc4_require_group(root, \u001B[38;5;28mself\u001B[39m\u001B[38;5;241m.\u001B[39m_group, \u001B[38;5;28mself\u001B[39m\u001B[38;5;241m.\u001B[39m_mode)\n\u001B[0;32m    414\u001B[0m     \u001B[38;5;28;01mreturn\u001B[39;00m ds\n",
      "File \u001B[1;32m~\\.conda\\envs\\tensorflow\\lib\\contextlib.py:135\u001B[0m, in \u001B[0;36m_GeneratorContextManager.__enter__\u001B[1;34m(self)\u001B[0m\n\u001B[0;32m    133\u001B[0m \u001B[38;5;28;01mdel\u001B[39;00m \u001B[38;5;28mself\u001B[39m\u001B[38;5;241m.\u001B[39margs, \u001B[38;5;28mself\u001B[39m\u001B[38;5;241m.\u001B[39mkwds, \u001B[38;5;28mself\u001B[39m\u001B[38;5;241m.\u001B[39mfunc\n\u001B[0;32m    134\u001B[0m \u001B[38;5;28;01mtry\u001B[39;00m:\n\u001B[1;32m--> 135\u001B[0m     \u001B[38;5;28;01mreturn\u001B[39;00m \u001B[38;5;28;43mnext\u001B[39;49m\u001B[43m(\u001B[49m\u001B[38;5;28;43mself\u001B[39;49m\u001B[38;5;241;43m.\u001B[39;49m\u001B[43mgen\u001B[49m\u001B[43m)\u001B[49m\n\u001B[0;32m    136\u001B[0m \u001B[38;5;28;01mexcept\u001B[39;00m \u001B[38;5;167;01mStopIteration\u001B[39;00m:\n\u001B[0;32m    137\u001B[0m     \u001B[38;5;28;01mraise\u001B[39;00m \u001B[38;5;167;01mRuntimeError\u001B[39;00m(\u001B[38;5;124m\"\u001B[39m\u001B[38;5;124mgenerator didn\u001B[39m\u001B[38;5;124m'\u001B[39m\u001B[38;5;124mt yield\u001B[39m\u001B[38;5;124m\"\u001B[39m) \u001B[38;5;28;01mfrom\u001B[39;00m \u001B[38;5;28;01mNone\u001B[39;00m\n",
      "File \u001B[1;32m~\\.conda\\envs\\tensorflow\\lib\\site-packages\\xarray\\backends\\file_manager.py:199\u001B[0m, in \u001B[0;36mCachingFileManager.acquire_context\u001B[1;34m(self, needs_lock)\u001B[0m\n\u001B[0;32m    196\u001B[0m \u001B[38;5;129m@contextlib\u001B[39m\u001B[38;5;241m.\u001B[39mcontextmanager\n\u001B[0;32m    197\u001B[0m \u001B[38;5;28;01mdef\u001B[39;00m \u001B[38;5;21macquire_context\u001B[39m(\u001B[38;5;28mself\u001B[39m, needs_lock\u001B[38;5;241m=\u001B[39m\u001B[38;5;28;01mTrue\u001B[39;00m):\n\u001B[0;32m    198\u001B[0m \u001B[38;5;250m    \u001B[39m\u001B[38;5;124;03m\"\"\"Context manager for acquiring a file.\"\"\"\u001B[39;00m\n\u001B[1;32m--> 199\u001B[0m     file, cached \u001B[38;5;241m=\u001B[39m \u001B[38;5;28;43mself\u001B[39;49m\u001B[38;5;241;43m.\u001B[39;49m\u001B[43m_acquire_with_cache_info\u001B[49m\u001B[43m(\u001B[49m\u001B[43mneeds_lock\u001B[49m\u001B[43m)\u001B[49m\n\u001B[0;32m    200\u001B[0m     \u001B[38;5;28;01mtry\u001B[39;00m:\n\u001B[0;32m    201\u001B[0m         \u001B[38;5;28;01myield\u001B[39;00m file\n",
      "File \u001B[1;32m~\\.conda\\envs\\tensorflow\\lib\\site-packages\\xarray\\backends\\file_manager.py:217\u001B[0m, in \u001B[0;36mCachingFileManager._acquire_with_cache_info\u001B[1;34m(self, needs_lock)\u001B[0m\n\u001B[0;32m    215\u001B[0m     kwargs \u001B[38;5;241m=\u001B[39m kwargs\u001B[38;5;241m.\u001B[39mcopy()\n\u001B[0;32m    216\u001B[0m     kwargs[\u001B[38;5;124m\"\u001B[39m\u001B[38;5;124mmode\u001B[39m\u001B[38;5;124m\"\u001B[39m] \u001B[38;5;241m=\u001B[39m \u001B[38;5;28mself\u001B[39m\u001B[38;5;241m.\u001B[39m_mode\n\u001B[1;32m--> 217\u001B[0m file \u001B[38;5;241m=\u001B[39m \u001B[38;5;28mself\u001B[39m\u001B[38;5;241m.\u001B[39m_opener(\u001B[38;5;241m*\u001B[39m\u001B[38;5;28mself\u001B[39m\u001B[38;5;241m.\u001B[39m_args, \u001B[38;5;241m*\u001B[39m\u001B[38;5;241m*\u001B[39mkwargs)\n\u001B[0;32m    218\u001B[0m \u001B[38;5;28;01mif\u001B[39;00m \u001B[38;5;28mself\u001B[39m\u001B[38;5;241m.\u001B[39m_mode \u001B[38;5;241m==\u001B[39m \u001B[38;5;124m\"\u001B[39m\u001B[38;5;124mw\u001B[39m\u001B[38;5;124m\"\u001B[39m:\n\u001B[0;32m    219\u001B[0m     \u001B[38;5;66;03m# ensure file doesn't get overridden when opened again\u001B[39;00m\n\u001B[0;32m    220\u001B[0m     \u001B[38;5;28mself\u001B[39m\u001B[38;5;241m.\u001B[39m_mode \u001B[38;5;241m=\u001B[39m \u001B[38;5;124m\"\u001B[39m\u001B[38;5;124ma\u001B[39m\u001B[38;5;124m\"\u001B[39m\n",
      "File \u001B[1;32msrc\\netCDF4\\_netCDF4.pyx:2449\u001B[0m, in \u001B[0;36mnetCDF4._netCDF4.Dataset.__init__\u001B[1;34m()\u001B[0m\n",
      "File \u001B[1;32msrc\\netCDF4\\_netCDF4.pyx:2012\u001B[0m, in \u001B[0;36mnetCDF4._netCDF4._ensure_nc_success\u001B[1;34m()\u001B[0m\n",
      "\u001B[1;31mOSError\u001B[0m: [Errno 22] Invalid argument: 'C:\\\\Users\\\\gusta\\\\Documents\\\\GitHub\\\\Thesis\\\\Satellite Imagery\\\\\"D:\\\\GOES 16\\\\Database\\x818\\x01'"
     ]
    }
   ],
   "source": [
    "import xarray as xr\n",
    "import matplotlib.pyplot as plt\n",
    "\n",
    "# Replace 'your_file.cn' with the path to your actual GOES data file\n",
    "file_path = '\"D:\\GOES 16\\Database\\2018\\001\\00\\OR_ABI-L2-CODC-M3_G16_s20180010002196_e20180010004569_c20180010006308.nc\"'\n",
    "\n",
    "# Step 2: Read the data\n",
    "# This assumes your .cn file is compatible with xarray's open_dataset method\n",
    "data = xr.open_dataset(file_path, engine='netcdf4')\n",
    "\n",
    "# Step 3: Plot the data\n",
    "# This example assumes your dataset has variables that can be directly plotted.\n",
    "# You may need to adjust variable names and indices depending on your data's structure.\n",
    "variable_name = 'your_variable_name'  # Replace with your actual variable name\n",
    "data[variable_name].plot()\n",
    "\n",
    "plt.show()"
   ]
  },
  {
   "cell_type": "code",
   "execution_count": 2,
   "outputs": [
    {
     "name": "stdout",
     "output_type": "stream",
     "text": [
      "Requirement already satisfied: netCDF4 in c:\\users\\gusta\\.conda\\envs\\tensorflow\\lib\\site-packages (1.6.3)\n",
      "Requirement already satisfied: h5netcdf in c:\\users\\gusta\\.conda\\envs\\tensorflow\\lib\\site-packages (1.3.0)\n",
      "Requirement already satisfied: cftime in c:\\users\\gusta\\.conda\\envs\\tensorflow\\lib\\site-packages (from netCDF4) (1.6.3)\n",
      "Requirement already satisfied: numpy in c:\\users\\gusta\\.conda\\envs\\tensorflow\\lib\\site-packages (from netCDF4) (1.26.0)\n",
      "Requirement already satisfied: h5py in c:\\users\\gusta\\.conda\\envs\\tensorflow\\lib\\site-packages (from h5netcdf) (3.8.0)\n",
      "Requirement already satisfied: packaging in c:\\users\\gusta\\.conda\\envs\\tensorflow\\lib\\site-packages (from h5netcdf) (23.1)\n",
      "Note: you may need to restart the kernel to use updated packages.\n"
     ]
    }
   ],
   "source": [
    "pip install netCDF4 h5netcdf"
   ],
   "metadata": {
    "collapsed": false,
    "ExecuteTime": {
     "end_time": "2024-02-26T19:19:18.711363200Z",
     "start_time": "2024-02-26T19:19:17.594330Z"
    }
   },
   "id": "c8778b770acd586d"
  }
 ],
 "metadata": {
  "kernelspec": {
   "display_name": "Python 3",
   "language": "python",
   "name": "python3"
  },
  "language_info": {
   "codemirror_mode": {
    "name": "ipython",
    "version": 2
   },
   "file_extension": ".py",
   "mimetype": "text/x-python",
   "name": "python",
   "nbconvert_exporter": "python",
   "pygments_lexer": "ipython2",
   "version": "2.7.6"
  }
 },
 "nbformat": 4,
 "nbformat_minor": 5
}
